{
  "nbformat": 4,
  "nbformat_minor": 0,
  "metadata": {
    "colab": {
      "provenance": []
    },
    "kernelspec": {
      "name": "python3",
      "display_name": "Python 3"
    },
    "language_info": {
      "name": "python"
    }
  },
  "cells": [
    {
      "cell_type": "code",
      "execution_count": null,
      "metadata": {
        "colab": {
          "base_uri": "https://localhost:8080/"
        },
        "id": "WWanRvChuc6q",
        "outputId": "736cfbe1-f0ea-4233-a200-286927aa868a"
      },
      "outputs": [
        {
          "output_type": "stream",
          "name": "stdout",
          "text": [
            "Saved artifact at '/tmp/tmpzq9akpjj'. The following endpoints are available:\n",
            "\n",
            "* Endpoint 'serve'\n",
            "  args_0 (POSITIONAL_ONLY): TensorSpec(shape=(None, 1), dtype=tf.float32, name='keras_tensor')\n",
            "Output Type:\n",
            "  TensorSpec(shape=(None, 1), dtype=tf.float32, name=None)\n",
            "Captures:\n",
            "  134931499833424: TensorSpec(shape=(), dtype=tf.resource, name=None)\n",
            "  134931499836688: TensorSpec(shape=(), dtype=tf.resource, name=None)\n",
            "Model size: 1284 bytes\n"
          ]
        }
      ],
      "source": [
        "# train_distance.py  –  run this on your PC\n",
        "import numpy as np, tensorflow as tf\n",
        "\n",
        "# Toy training data: distance(cm)  &  label  (0 = near, 1 = far)\n",
        "X = np.array([[10],[15],[25],[29],[31],[40],[55]], dtype=np.float32)\n",
        "y = np.array([[0],[0],[0],[0],[1],[1],[1]], dtype=np.float32)\n",
        "\n",
        "model = tf.keras.Sequential([\n",
        "    tf.keras.layers.Input(shape=(1,)),\n",
        "    tf.keras.layers.Dense(1, activation='sigmoid')   # logistic regression\n",
        "])\n",
        "model.compile(optimizer='adam', loss='binary_crossentropy')\n",
        "model.fit(X, y, epochs=200, verbose=0)\n",
        "\n",
        "# Convert to TFLite-Micro flatbuffer\n",
        "converter = tf.lite.TFLiteConverter.from_keras_model(model)\n",
        "tflite_model = converter.convert()\n",
        "open(\"distance_lr.tflite\", \"wb\").write(tflite_model)\n",
        "print(\"Model size:\", len(tflite_model), \"bytes\")\n"
      ]
    },
    {
      "cell_type": "code",
      "source": [
        "\n",
        "!pip install scikit-learn micromlgen pandas\n",
        "!python train_threshold_lr.py\n",
        "# train_threshold_lr.py\n",
        "import pandas as pd\n",
        "from sklearn.linear_model import LogisticRegression\n",
        "from micromlgen import port             # tiny header generator\n",
        "\n",
        "data = pd.read_csv('/content/data.csv')\n",
        "X, y = data[['value']], data['label']\n",
        "clf = LogisticRegression().fit(X, y)\n",
        "\n",
        "# produce a single-file C header with predict()\n",
        "open('model.h', 'w').write(\n",
        "    port(clf, classmap={0: 'LOW', 1: 'HIGH'}, microoptim=True)\n",
        ")\n",
        "print('W =', clf.coef_[0][0], '  B =', clf.intercept_[0])\n"
      ],
      "metadata": {
        "colab": {
          "base_uri": "https://localhost:8080/"
        },
        "id": "bNsyg6-h8iIk",
        "outputId": "5d2ade3a-c19a-48de-ca91-5e84c14753a8"
      },
      "execution_count": 6,
      "outputs": [
        {
          "output_type": "stream",
          "name": "stdout",
          "text": [
            "Requirement already satisfied: scikit-learn in /usr/local/lib/python3.11/dist-packages (1.6.1)\n",
            "Collecting micromlgen\n",
            "  Downloading micromlgen-1.1.28.tar.gz (12 kB)\n",
            "  Preparing metadata (setup.py) ... \u001b[?25l\u001b[?25hdone\n",
            "Requirement already satisfied: pandas in /usr/local/lib/python3.11/dist-packages (2.2.2)\n",
            "Requirement already satisfied: numpy>=1.19.5 in /usr/local/lib/python3.11/dist-packages (from scikit-learn) (2.0.2)\n",
            "Requirement already satisfied: scipy>=1.6.0 in /usr/local/lib/python3.11/dist-packages (from scikit-learn) (1.15.3)\n",
            "Requirement already satisfied: joblib>=1.2.0 in /usr/local/lib/python3.11/dist-packages (from scikit-learn) (1.5.1)\n",
            "Requirement already satisfied: threadpoolctl>=3.1.0 in /usr/local/lib/python3.11/dist-packages (from scikit-learn) (3.6.0)\n",
            "Requirement already satisfied: jinja2 in /usr/local/lib/python3.11/dist-packages (from micromlgen) (3.1.6)\n",
            "Requirement already satisfied: python-dateutil>=2.8.2 in /usr/local/lib/python3.11/dist-packages (from pandas) (2.9.0.post0)\n",
            "Requirement already satisfied: pytz>=2020.1 in /usr/local/lib/python3.11/dist-packages (from pandas) (2025.2)\n",
            "Requirement already satisfied: tzdata>=2022.7 in /usr/local/lib/python3.11/dist-packages (from pandas) (2025.2)\n",
            "Requirement already satisfied: six>=1.5 in /usr/local/lib/python3.11/dist-packages (from python-dateutil>=2.8.2->pandas) (1.17.0)\n",
            "Requirement already satisfied: MarkupSafe>=2.0 in /usr/local/lib/python3.11/dist-packages (from jinja2->micromlgen) (3.0.2)\n",
            "Building wheels for collected packages: micromlgen\n",
            "  Building wheel for micromlgen (setup.py) ... \u001b[?25l\u001b[?25hdone\n",
            "  Created wheel for micromlgen: filename=micromlgen-1.1.28-py3-none-any.whl size=32152 sha256=f80bf9be6254130b6dded931d1615de45ac021f27b67d14eb7aa1b8ce68905bd\n",
            "  Stored in directory: /root/.cache/pip/wheels/aa/3a/19/9fd4635f110202e18f3b4bb631e90287ba06eb406999726cb9\n",
            "Successfully built micromlgen\n",
            "Installing collected packages: micromlgen\n",
            "Successfully installed micromlgen-1.1.28\n",
            "python3: can't open file '/content/train_threshold_lr.py': [Errno 2] No such file or directory\n",
            "W = 0.2984243748921464   B = -73.75347759621968\n"
          ]
        }
      ]
    }
  ]
}